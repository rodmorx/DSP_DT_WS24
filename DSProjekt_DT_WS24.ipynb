{
  "nbformat": 4,
  "nbformat_minor": 0,
  "metadata": {
    "colab": {
      "provenance": [],
      "include_colab_link": true
    },
    "kernelspec": {
      "name": "python3",
      "display_name": "Python 3"
    },
    "language_info": {
      "name": "python"
    }
  },
  "cells": [
    {
      "cell_type": "markdown",
      "metadata": {
        "id": "view-in-github",
        "colab_type": "text"
      },
      "source": [
        "<a href=\"https://colab.research.google.com/github/rodmorx/DSP_DT_WS24/blob/main/DSProjekt_DT_WS24.ipynb\" target=\"_parent\"><img src=\"https://colab.research.google.com/assets/colab-badge.svg\" alt=\"Open In Colab\"/></a>"
      ]
    },
    {
      "cell_type": "markdown",
      "source": [
        "## Data Sience Projekt WS24 - Dream Team"
      ],
      "metadata": {
        "id": "4OrEuUXasy-m"
      }
    },
    {
      "cell_type": "code",
      "source": [
        "pip install news-please"
      ],
      "metadata": {
        "colab": {
          "base_uri": "https://localhost:8080/"
        },
        "id": "XVYHF-4ts2yC",
        "outputId": "6b6e1bf0-05f9-48d7-f989-358117b138f9"
      },
      "execution_count": null,
      "outputs": [
        {
          "output_type": "stream",
          "name": "stdout",
          "text": [
            "Requirement already satisfied: news-please in /usr/local/lib/python3.10/dist-packages (1.6.13)\n",
            "Requirement already satisfied: Scrapy>=1.1.0 in /usr/local/lib/python3.10/dist-packages (from news-please) (2.11.2)\n",
            "Requirement already satisfied: PyMySQL>=0.7.9 in /usr/local/lib/python3.10/dist-packages (from news-please) (1.1.1)\n",
            "Requirement already satisfied: psycopg2-binary>=2.8.4 in /usr/local/lib/python3.10/dist-packages (from news-please) (2.9.10)\n",
            "Requirement already satisfied: hjson>=1.5.8 in /usr/local/lib/python3.10/dist-packages (from news-please) (3.1.0)\n",
            "Requirement already satisfied: elasticsearch>=2.4 in /usr/local/lib/python3.10/dist-packages (from news-please) (8.15.1)\n",
            "Requirement already satisfied: beautifulsoup4>=4.3.2 in /usr/local/lib/python3.10/dist-packages (from news-please) (4.12.3)\n",
            "Requirement already satisfied: readability-lxml>=0.6.2 in /usr/local/lib/python3.10/dist-packages (from news-please) (0.8.1)\n",
            "Requirement already satisfied: langdetect>=1.0.7 in /usr/local/lib/python3.10/dist-packages (from news-please) (1.0.9)\n",
            "Requirement already satisfied: python-dateutil>=2.4.0 in /usr/local/lib/python3.10/dist-packages (from news-please) (2.8.2)\n",
            "Requirement already satisfied: plac>=0.9.6 in /usr/local/lib/python3.10/dist-packages (from news-please) (1.4.3)\n",
            "Requirement already satisfied: dotmap>=1.2.17 in /usr/local/lib/python3.10/dist-packages (from news-please) (1.3.30)\n",
            "Requirement already satisfied: PyDispatcher>=2.0.5 in /usr/local/lib/python3.10/dist-packages (from news-please) (2.0.7)\n",
            "Requirement already satisfied: warcio>=1.3.3 in /usr/local/lib/python3.10/dist-packages (from news-please) (1.7.4)\n",
            "Requirement already satisfied: ago>=0.0.9 in /usr/local/lib/python3.10/dist-packages (from news-please) (0.0.95)\n",
            "Requirement already satisfied: six>=1.10.0 in /usr/local/lib/python3.10/dist-packages (from news-please) (1.16.0)\n",
            "Requirement already satisfied: lxml>=3.3.5 in /usr/local/lib/python3.10/dist-packages (from news-please) (4.9.4)\n",
            "Requirement already satisfied: hurry.filesize>=0.9 in /usr/local/lib/python3.10/dist-packages (from news-please) (0.9)\n",
            "Requirement already satisfied: bs4 in /usr/local/lib/python3.10/dist-packages (from news-please) (0.0.2)\n",
            "Requirement already satisfied: faust-cchardet>=2.1.18 in /usr/local/lib/python3.10/dist-packages (from news-please) (2.1.19)\n",
            "Requirement already satisfied: boto3 in /usr/local/lib/python3.10/dist-packages (from news-please) (1.35.47)\n",
            "Requirement already satisfied: redis in /usr/local/lib/python3.10/dist-packages (from news-please) (5.2.0)\n",
            "Requirement already satisfied: newspaper4k>=0.9.3.1 in /usr/local/lib/python3.10/dist-packages (from news-please) (0.9.3.1)\n",
            "Requirement already satisfied: lxml-html-clean>=0.1.1 in /usr/local/lib/python3.10/dist-packages (from news-please) (0.3.1)\n",
            "Requirement already satisfied: typing-extensions>=4.7.0 in /usr/local/lib/python3.10/dist-packages (from news-please) (4.12.2)\n",
            "Requirement already satisfied: soupsieve>1.2 in /usr/local/lib/python3.10/dist-packages (from beautifulsoup4>=4.3.2->news-please) (2.6)\n",
            "Requirement already satisfied: elastic-transport<9,>=8.13 in /usr/local/lib/python3.10/dist-packages (from elasticsearch>=2.4->news-please) (8.15.1)\n",
            "Requirement already satisfied: setuptools in /usr/local/lib/python3.10/dist-packages (from hurry.filesize>=0.9->news-please) (75.1.0)\n",
            "Requirement already satisfied: Pillow>=4.0.0 in /usr/local/lib/python3.10/dist-packages (from newspaper4k>=0.9.3.1->news-please) (10.4.0)\n",
            "Requirement already satisfied: PyYAML>=5.1 in /usr/local/lib/python3.10/dist-packages (from newspaper4k>=0.9.3.1->news-please) (6.0.2)\n",
            "Requirement already satisfied: feedparser>=6.0.0 in /usr/local/lib/python3.10/dist-packages (from newspaper4k>=0.9.3.1->news-please) (6.0.11)\n",
            "Requirement already satisfied: nltk>=3.6.6 in /usr/local/lib/python3.10/dist-packages (from newspaper4k>=0.9.3.1->news-please) (3.8.1)\n",
            "Requirement already satisfied: numpy<2.0,>=1.24 in /usr/local/lib/python3.10/dist-packages (from newspaper4k>=0.9.3.1->news-please) (1.26.4)\n",
            "Requirement already satisfied: pandas>=1.4 in /usr/local/lib/python3.10/dist-packages (from newspaper4k>=0.9.3.1->news-please) (2.2.2)\n",
            "Requirement already satisfied: requests>=2.26.0 in /usr/local/lib/python3.10/dist-packages (from newspaper4k>=0.9.3.1->news-please) (2.32.3)\n",
            "Requirement already satisfied: tldextract>=2.0.1 in /usr/local/lib/python3.10/dist-packages (from newspaper4k>=0.9.3.1->news-please) (5.1.2)\n",
            "Requirement already satisfied: chardet in /usr/local/lib/python3.10/dist-packages (from readability-lxml>=0.6.2->news-please) (5.2.0)\n",
            "Requirement already satisfied: cssselect in /usr/local/lib/python3.10/dist-packages (from readability-lxml>=0.6.2->news-please) (1.2.0)\n",
            "Requirement already satisfied: Twisted>=18.9.0 in /usr/local/lib/python3.10/dist-packages (from Scrapy>=1.1.0->news-please) (24.7.0)\n",
            "Requirement already satisfied: cryptography>=36.0.0 in /usr/local/lib/python3.10/dist-packages (from Scrapy>=1.1.0->news-please) (43.0.3)\n",
            "Requirement already satisfied: itemloaders>=1.0.1 in /usr/local/lib/python3.10/dist-packages (from Scrapy>=1.1.0->news-please) (1.3.2)\n",
            "Requirement already satisfied: parsel>=1.5.0 in /usr/local/lib/python3.10/dist-packages (from Scrapy>=1.1.0->news-please) (1.9.1)\n",
            "Requirement already satisfied: pyOpenSSL>=21.0.0 in /usr/local/lib/python3.10/dist-packages (from Scrapy>=1.1.0->news-please) (24.2.1)\n",
            "Requirement already satisfied: queuelib>=1.4.2 in /usr/local/lib/python3.10/dist-packages (from Scrapy>=1.1.0->news-please) (1.7.0)\n",
            "Requirement already satisfied: service-identity>=18.1.0 in /usr/local/lib/python3.10/dist-packages (from Scrapy>=1.1.0->news-please) (24.1.0)\n",
            "Requirement already satisfied: w3lib>=1.17.0 in /usr/local/lib/python3.10/dist-packages (from Scrapy>=1.1.0->news-please) (2.2.1)\n",
            "Requirement already satisfied: zope.interface>=5.1.0 in /usr/local/lib/python3.10/dist-packages (from Scrapy>=1.1.0->news-please) (7.1.1)\n",
            "Requirement already satisfied: protego>=0.1.15 in /usr/local/lib/python3.10/dist-packages (from Scrapy>=1.1.0->news-please) (0.3.1)\n",
            "Requirement already satisfied: itemadapter>=0.1.0 in /usr/local/lib/python3.10/dist-packages (from Scrapy>=1.1.0->news-please) (0.9.0)\n",
            "Requirement already satisfied: packaging in /usr/local/lib/python3.10/dist-packages (from Scrapy>=1.1.0->news-please) (24.1)\n",
            "Requirement already satisfied: defusedxml>=0.7.1 in /usr/local/lib/python3.10/dist-packages (from Scrapy>=1.1.0->news-please) (0.7.1)\n",
            "Requirement already satisfied: botocore<1.36.0,>=1.35.47 in /usr/local/lib/python3.10/dist-packages (from boto3->news-please) (1.35.47)\n",
            "Requirement already satisfied: jmespath<2.0.0,>=0.7.1 in /usr/local/lib/python3.10/dist-packages (from boto3->news-please) (1.0.1)\n",
            "Requirement already satisfied: s3transfer<0.11.0,>=0.10.0 in /usr/local/lib/python3.10/dist-packages (from boto3->news-please) (0.10.3)\n",
            "Requirement already satisfied: async-timeout>=4.0.3 in /usr/local/lib/python3.10/dist-packages (from redis->news-please) (4.0.3)\n",
            "Requirement already satisfied: urllib3!=2.2.0,<3,>=1.25.4 in /usr/local/lib/python3.10/dist-packages (from botocore<1.36.0,>=1.35.47->boto3->news-please) (2.2.3)\n",
            "Requirement already satisfied: cffi>=1.12 in /usr/local/lib/python3.10/dist-packages (from cryptography>=36.0.0->Scrapy>=1.1.0->news-please) (1.17.1)\n",
            "Requirement already satisfied: certifi in /usr/local/lib/python3.10/dist-packages (from elastic-transport<9,>=8.13->elasticsearch>=2.4->news-please) (2024.8.30)\n",
            "Requirement already satisfied: sgmllib3k in /usr/local/lib/python3.10/dist-packages (from feedparser>=6.0.0->newspaper4k>=0.9.3.1->news-please) (1.0.0)\n",
            "Requirement already satisfied: click in /usr/local/lib/python3.10/dist-packages (from nltk>=3.6.6->newspaper4k>=0.9.3.1->news-please) (8.1.7)\n",
            "Requirement already satisfied: joblib in /usr/local/lib/python3.10/dist-packages (from nltk>=3.6.6->newspaper4k>=0.9.3.1->news-please) (1.4.2)\n",
            "Requirement already satisfied: regex>=2021.8.3 in /usr/local/lib/python3.10/dist-packages (from nltk>=3.6.6->newspaper4k>=0.9.3.1->news-please) (2024.9.11)\n",
            "Requirement already satisfied: tqdm in /usr/local/lib/python3.10/dist-packages (from nltk>=3.6.6->newspaper4k>=0.9.3.1->news-please) (4.66.5)\n",
            "Requirement already satisfied: pytz>=2020.1 in /usr/local/lib/python3.10/dist-packages (from pandas>=1.4->newspaper4k>=0.9.3.1->news-please) (2024.2)\n",
            "Requirement already satisfied: tzdata>=2022.7 in /usr/local/lib/python3.10/dist-packages (from pandas>=1.4->newspaper4k>=0.9.3.1->news-please) (2024.2)\n",
            "Requirement already satisfied: charset-normalizer<4,>=2 in /usr/local/lib/python3.10/dist-packages (from requests>=2.26.0->newspaper4k>=0.9.3.1->news-please) (3.4.0)\n",
            "Requirement already satisfied: idna<4,>=2.5 in /usr/local/lib/python3.10/dist-packages (from requests>=2.26.0->newspaper4k>=0.9.3.1->news-please) (3.10)\n",
            "Requirement already satisfied: attrs>=19.1.0 in /usr/local/lib/python3.10/dist-packages (from service-identity>=18.1.0->Scrapy>=1.1.0->news-please) (24.2.0)\n",
            "Requirement already satisfied: pyasn1 in /usr/local/lib/python3.10/dist-packages (from service-identity>=18.1.0->Scrapy>=1.1.0->news-please) (0.6.1)\n",
            "Requirement already satisfied: pyasn1-modules in /usr/local/lib/python3.10/dist-packages (from service-identity>=18.1.0->Scrapy>=1.1.0->news-please) (0.4.1)\n",
            "Requirement already satisfied: requests-file>=1.4 in /usr/local/lib/python3.10/dist-packages (from tldextract>=2.0.1->newspaper4k>=0.9.3.1->news-please) (2.1.0)\n",
            "Requirement already satisfied: filelock>=3.0.8 in /usr/local/lib/python3.10/dist-packages (from tldextract>=2.0.1->newspaper4k>=0.9.3.1->news-please) (3.16.1)\n",
            "Requirement already satisfied: automat>=0.8.0 in /usr/local/lib/python3.10/dist-packages (from Twisted>=18.9.0->Scrapy>=1.1.0->news-please) (24.8.1)\n",
            "Requirement already satisfied: constantly>=15.1 in /usr/local/lib/python3.10/dist-packages (from Twisted>=18.9.0->Scrapy>=1.1.0->news-please) (23.10.4)\n",
            "Requirement already satisfied: hyperlink>=17.1.1 in /usr/local/lib/python3.10/dist-packages (from Twisted>=18.9.0->Scrapy>=1.1.0->news-please) (21.0.0)\n",
            "Requirement already satisfied: incremental>=24.7.0 in /usr/local/lib/python3.10/dist-packages (from Twisted>=18.9.0->Scrapy>=1.1.0->news-please) (24.7.2)\n",
            "Requirement already satisfied: pycparser in /usr/local/lib/python3.10/dist-packages (from cffi>=1.12->cryptography>=36.0.0->Scrapy>=1.1.0->news-please) (2.22)\n",
            "Requirement already satisfied: tomli in /usr/local/lib/python3.10/dist-packages (from incremental>=24.7.0->Twisted>=18.9.0->Scrapy>=1.1.0->news-please) (2.0.2)\n"
          ]
        }
      ]
    },
    {
      "cell_type": "code",
      "source": [
        "from newsplease import NewsPlease\n",
        "import pandas as pd\n",
        "import urllib.parse\n",
        "## Can You READ THIS DREAM TEAM"
      ],
      "metadata": {
        "id": "Uz32WsCztVHp"
      },
      "execution_count": null,
      "outputs": []
    },
    {
      "cell_type": "code",
      "source": [
        "# Function to extract the domain (i.e., the newspaper/source) from the URL\n",
        "def extract_newspaper(url):\n",
        "    parsed_url = urllib.parse.urlparse(url)\n",
        "    domain = parsed_url.netloc\n",
        "    return domain.replace('www.', '')  # Clean up 'www.' if present"
      ],
      "metadata": {
        "id": "Ye1NHNkan2zS"
      },
      "execution_count": null,
      "outputs": []
    },
    {
      "cell_type": "code",
      "source": [
        "# Function to scrape an article from a URL and return relevant information\n",
        "def scrape_article(url):\n",
        "    try:\n",
        "        article = NewsPlease.from_url(url)\n",
        "        return {\n",
        "            'title': article.title,\n",
        "            'authors': article.authors,\n",
        "            'date_publish': article.date_publish,\n",
        "            'maintext': article.maintext,\n",
        "            'url': url,\n",
        "            'newspaper': extract_newspaper(url)  # Add newspaper information\n",
        "        }\n",
        "    except Exception as e:\n",
        "        # Return None if there's any error (e.g., 404, timeout)\n",
        "        print(f\"Error scraping {url}: {e}\")\n",
        "        return None"
      ],
      "metadata": {
        "id": "Q16b25Kx11c1"
      },
      "execution_count": null,
      "outputs": []
    },
    {
      "cell_type": "code",
      "source": [
        "#Function to scrape multicle articles and return a dataframe with relevant information\n",
        "def scrape_articles(url_list):\n",
        "    # Initialize an empty list to store scraped article data\n",
        "    articles_data = []\n",
        "\n",
        "    # Loop through each URL and scrape the article\n",
        "    for url in url_list:\n",
        "        article_data = scrape_article(url)\n",
        "        if article_data:\n",
        "            articles_data.append(article_data)\n",
        "\n",
        "    # Convert the list of dictionaries to a pandas DataFrame\n",
        "    df = pd.DataFrame(articles_data)\n",
        "\n",
        "    return df"
      ],
      "metadata": {
        "id": "xUC4EUKG2MXd"
      },
      "execution_count": null,
      "outputs": []
    },
    {
      "cell_type": "code",
      "source": [
        "# Test Usage\n",
        "urls = [\n",
        "    \"https://www.abendblatt.de/hamburg/hamburg-mitte/article407529183/elbtower-kauft-tuerkische-firma-hamburgs-kuenftiges-wahrzeichen.html\",\n",
        "    \"https://www.sueddeutsche.de/politik/israel-hisbollah-libanon-bank-gold-geld-krankenhaus-lux.TxxwzAtVsoRuvgqkHfMiuy\",\n",
        "    \"https://www.morgenpost.de/politik/article407533911/gruene-verbieten-hunde-wie-csu-zu-diesem-schwachsinn-kommt.html\"\n",
        "]\n",
        "\n",
        "# Scrape articles and create a DataFrame\n",
        "articles_df = scrape_articles(urls)\n",
        "\n",
        "# Display the dataframe\n",
        "print(articles_df.head())"
      ],
      "metadata": {
        "colab": {
          "base_uri": "https://localhost:8080/"
        },
        "id": "NENtyFtq2RuH",
        "outputId": "8eb42c3f-6ae1-4b92-8f6f-32e3a540faed"
      },
      "execution_count": null,
      "outputs": [
        {
          "output_type": "stream",
          "name": "stdout",
          "text": [
            "                                               title            authors  \\\n",
            "0  Elbtower: Kauft türkische Firma Hamburgs künft...   [Ulrich Gaßdorf]   \n",
            "1   Israels Armee sucht den Goldschatz der Hisbollah    [Bernd Dörries]   \n",
            "2  Grüne verbieten Hunde? Wie CSU zu diesem „Schw...  [Daniel Weidmann]   \n",
            "\n",
            "         date_publish                                           maintext  \\\n",
            "0 2024-10-24 12:25:16  Hamburg. Bekanntes Unternehmen aus Istanbul so...   \n",
            "1 2024-10-22 14:56:01  Der Direktor des Krankenhauses, ein Parlaments...   \n",
            "2 2024-10-24 11:18:36  Berlin. Der CSU-Generalsekretär behauptet, die...   \n",
            "\n",
            "                                                 url        newspaper  \n",
            "0  https://www.abendblatt.de/hamburg/hamburg-mitt...    abendblatt.de  \n",
            "1  https://www.sueddeutsche.de/politik/israel-his...  sueddeutsche.de  \n",
            "2  https://www.morgenpost.de/politik/article40753...    morgenpost.de  \n"
          ]
        }
      ]
    },
    {
      "cell_type": "code",
      "source": [
        "articles_df.info()"
      ],
      "metadata": {
        "colab": {
          "base_uri": "https://localhost:8080/"
        },
        "id": "_8qpOyQt8PIM",
        "outputId": "19e88c6a-9373-4d15-d0de-64408bd725b3"
      },
      "execution_count": null,
      "outputs": [
        {
          "output_type": "stream",
          "name": "stdout",
          "text": [
            "<class 'pandas.core.frame.DataFrame'>\n",
            "RangeIndex: 3 entries, 0 to 2\n",
            "Data columns (total 6 columns):\n",
            " #   Column        Non-Null Count  Dtype         \n",
            "---  ------        --------------  -----         \n",
            " 0   title         3 non-null      object        \n",
            " 1   authors       3 non-null      object        \n",
            " 2   date_publish  3 non-null      datetime64[ns]\n",
            " 3   maintext      3 non-null      object        \n",
            " 4   url           3 non-null      object        \n",
            " 5   newspaper     3 non-null      object        \n",
            "dtypes: datetime64[ns](1), object(5)\n",
            "memory usage: 272.0+ bytes\n"
          ]
        }
      ]
    },
    {
      "cell_type": "code",
      "source": [
        "articles_df.head()"
      ],
      "metadata": {
        "colab": {
          "base_uri": "https://localhost:8080/",
          "height": 143
        },
        "id": "le6Mv0K8bkXi",
        "outputId": "635f7ae9-e8c1-42d6-b241-fe1d7b6d3c04"
      },
      "execution_count": null,
      "outputs": [
        {
          "output_type": "execute_result",
          "data": {
            "text/plain": [
              "                                               title            authors  \\\n",
              "0  Elbtower: Kauft türkische Firma Hamburgs künft...   [Ulrich Gaßdorf]   \n",
              "1   Israels Armee sucht den Goldschatz der Hisbollah    [Bernd Dörries]   \n",
              "2  Grüne verbieten Hunde? Wie CSU zu diesem „Schw...  [Daniel Weidmann]   \n",
              "\n",
              "         date_publish                                           maintext  \\\n",
              "0 2024-10-24 12:25:16  Hamburg. Bekanntes Unternehmen aus Istanbul so...   \n",
              "1 2024-10-22 14:56:01  Der Direktor des Krankenhauses, ein Parlaments...   \n",
              "2 2024-10-24 11:18:36  Berlin. Der CSU-Generalsekretär behauptet, die...   \n",
              "\n",
              "                                                 url        newspaper  \n",
              "0  https://www.abendblatt.de/hamburg/hamburg-mitt...    abendblatt.de  \n",
              "1  https://www.sueddeutsche.de/politik/israel-his...  sueddeutsche.de  \n",
              "2  https://www.morgenpost.de/politik/article40753...    morgenpost.de  "
            ],
            "text/html": [
              "\n",
              "  <div id=\"df-e05e4089-cdc8-43bf-8032-22456690cb8b\" class=\"colab-df-container\">\n",
              "    <div>\n",
              "<style scoped>\n",
              "    .dataframe tbody tr th:only-of-type {\n",
              "        vertical-align: middle;\n",
              "    }\n",
              "\n",
              "    .dataframe tbody tr th {\n",
              "        vertical-align: top;\n",
              "    }\n",
              "\n",
              "    .dataframe thead th {\n",
              "        text-align: right;\n",
              "    }\n",
              "</style>\n",
              "<table border=\"1\" class=\"dataframe\">\n",
              "  <thead>\n",
              "    <tr style=\"text-align: right;\">\n",
              "      <th></th>\n",
              "      <th>title</th>\n",
              "      <th>authors</th>\n",
              "      <th>date_publish</th>\n",
              "      <th>maintext</th>\n",
              "      <th>url</th>\n",
              "      <th>newspaper</th>\n",
              "    </tr>\n",
              "  </thead>\n",
              "  <tbody>\n",
              "    <tr>\n",
              "      <th>0</th>\n",
              "      <td>Elbtower: Kauft türkische Firma Hamburgs künft...</td>\n",
              "      <td>[Ulrich Gaßdorf]</td>\n",
              "      <td>2024-10-24 12:25:16</td>\n",
              "      <td>Hamburg. Bekanntes Unternehmen aus Istanbul so...</td>\n",
              "      <td>https://www.abendblatt.de/hamburg/hamburg-mitt...</td>\n",
              "      <td>abendblatt.de</td>\n",
              "    </tr>\n",
              "    <tr>\n",
              "      <th>1</th>\n",
              "      <td>Israels Armee sucht den Goldschatz der Hisbollah</td>\n",
              "      <td>[Bernd Dörries]</td>\n",
              "      <td>2024-10-22 14:56:01</td>\n",
              "      <td>Der Direktor des Krankenhauses, ein Parlaments...</td>\n",
              "      <td>https://www.sueddeutsche.de/politik/israel-his...</td>\n",
              "      <td>sueddeutsche.de</td>\n",
              "    </tr>\n",
              "    <tr>\n",
              "      <th>2</th>\n",
              "      <td>Grüne verbieten Hunde? Wie CSU zu diesem „Schw...</td>\n",
              "      <td>[Daniel Weidmann]</td>\n",
              "      <td>2024-10-24 11:18:36</td>\n",
              "      <td>Berlin. Der CSU-Generalsekretär behauptet, die...</td>\n",
              "      <td>https://www.morgenpost.de/politik/article40753...</td>\n",
              "      <td>morgenpost.de</td>\n",
              "    </tr>\n",
              "  </tbody>\n",
              "</table>\n",
              "</div>\n",
              "    <div class=\"colab-df-buttons\">\n",
              "\n",
              "  <div class=\"colab-df-container\">\n",
              "    <button class=\"colab-df-convert\" onclick=\"convertToInteractive('df-e05e4089-cdc8-43bf-8032-22456690cb8b')\"\n",
              "            title=\"Convert this dataframe to an interactive table.\"\n",
              "            style=\"display:none;\">\n",
              "\n",
              "  <svg xmlns=\"http://www.w3.org/2000/svg\" height=\"24px\" viewBox=\"0 -960 960 960\">\n",
              "    <path d=\"M120-120v-720h720v720H120Zm60-500h600v-160H180v160Zm220 220h160v-160H400v160Zm0 220h160v-160H400v160ZM180-400h160v-160H180v160Zm440 0h160v-160H620v160ZM180-180h160v-160H180v160Zm440 0h160v-160H620v160Z\"/>\n",
              "  </svg>\n",
              "    </button>\n",
              "\n",
              "  <style>\n",
              "    .colab-df-container {\n",
              "      display:flex;\n",
              "      gap: 12px;\n",
              "    }\n",
              "\n",
              "    .colab-df-convert {\n",
              "      background-color: #E8F0FE;\n",
              "      border: none;\n",
              "      border-radius: 50%;\n",
              "      cursor: pointer;\n",
              "      display: none;\n",
              "      fill: #1967D2;\n",
              "      height: 32px;\n",
              "      padding: 0 0 0 0;\n",
              "      width: 32px;\n",
              "    }\n",
              "\n",
              "    .colab-df-convert:hover {\n",
              "      background-color: #E2EBFA;\n",
              "      box-shadow: 0px 1px 2px rgba(60, 64, 67, 0.3), 0px 1px 3px 1px rgba(60, 64, 67, 0.15);\n",
              "      fill: #174EA6;\n",
              "    }\n",
              "\n",
              "    .colab-df-buttons div {\n",
              "      margin-bottom: 4px;\n",
              "    }\n",
              "\n",
              "    [theme=dark] .colab-df-convert {\n",
              "      background-color: #3B4455;\n",
              "      fill: #D2E3FC;\n",
              "    }\n",
              "\n",
              "    [theme=dark] .colab-df-convert:hover {\n",
              "      background-color: #434B5C;\n",
              "      box-shadow: 0px 1px 3px 1px rgba(0, 0, 0, 0.15);\n",
              "      filter: drop-shadow(0px 1px 2px rgba(0, 0, 0, 0.3));\n",
              "      fill: #FFFFFF;\n",
              "    }\n",
              "  </style>\n",
              "\n",
              "    <script>\n",
              "      const buttonEl =\n",
              "        document.querySelector('#df-e05e4089-cdc8-43bf-8032-22456690cb8b button.colab-df-convert');\n",
              "      buttonEl.style.display =\n",
              "        google.colab.kernel.accessAllowed ? 'block' : 'none';\n",
              "\n",
              "      async function convertToInteractive(key) {\n",
              "        const element = document.querySelector('#df-e05e4089-cdc8-43bf-8032-22456690cb8b');\n",
              "        const dataTable =\n",
              "          await google.colab.kernel.invokeFunction('convertToInteractive',\n",
              "                                                    [key], {});\n",
              "        if (!dataTable) return;\n",
              "\n",
              "        const docLinkHtml = 'Like what you see? Visit the ' +\n",
              "          '<a target=\"_blank\" href=https://colab.research.google.com/notebooks/data_table.ipynb>data table notebook</a>'\n",
              "          + ' to learn more about interactive tables.';\n",
              "        element.innerHTML = '';\n",
              "        dataTable['output_type'] = 'display_data';\n",
              "        await google.colab.output.renderOutput(dataTable, element);\n",
              "        const docLink = document.createElement('div');\n",
              "        docLink.innerHTML = docLinkHtml;\n",
              "        element.appendChild(docLink);\n",
              "      }\n",
              "    </script>\n",
              "  </div>\n",
              "\n",
              "\n",
              "<div id=\"df-921d6aaf-96e6-4bb6-9511-4279a682c39f\">\n",
              "  <button class=\"colab-df-quickchart\" onclick=\"quickchart('df-921d6aaf-96e6-4bb6-9511-4279a682c39f')\"\n",
              "            title=\"Suggest charts\"\n",
              "            style=\"display:none;\">\n",
              "\n",
              "<svg xmlns=\"http://www.w3.org/2000/svg\" height=\"24px\"viewBox=\"0 0 24 24\"\n",
              "     width=\"24px\">\n",
              "    <g>\n",
              "        <path d=\"M19 3H5c-1.1 0-2 .9-2 2v14c0 1.1.9 2 2 2h14c1.1 0 2-.9 2-2V5c0-1.1-.9-2-2-2zM9 17H7v-7h2v7zm4 0h-2V7h2v10zm4 0h-2v-4h2v4z\"/>\n",
              "    </g>\n",
              "</svg>\n",
              "  </button>\n",
              "\n",
              "<style>\n",
              "  .colab-df-quickchart {\n",
              "      --bg-color: #E8F0FE;\n",
              "      --fill-color: #1967D2;\n",
              "      --hover-bg-color: #E2EBFA;\n",
              "      --hover-fill-color: #174EA6;\n",
              "      --disabled-fill-color: #AAA;\n",
              "      --disabled-bg-color: #DDD;\n",
              "  }\n",
              "\n",
              "  [theme=dark] .colab-df-quickchart {\n",
              "      --bg-color: #3B4455;\n",
              "      --fill-color: #D2E3FC;\n",
              "      --hover-bg-color: #434B5C;\n",
              "      --hover-fill-color: #FFFFFF;\n",
              "      --disabled-bg-color: #3B4455;\n",
              "      --disabled-fill-color: #666;\n",
              "  }\n",
              "\n",
              "  .colab-df-quickchart {\n",
              "    background-color: var(--bg-color);\n",
              "    border: none;\n",
              "    border-radius: 50%;\n",
              "    cursor: pointer;\n",
              "    display: none;\n",
              "    fill: var(--fill-color);\n",
              "    height: 32px;\n",
              "    padding: 0;\n",
              "    width: 32px;\n",
              "  }\n",
              "\n",
              "  .colab-df-quickchart:hover {\n",
              "    background-color: var(--hover-bg-color);\n",
              "    box-shadow: 0 1px 2px rgba(60, 64, 67, 0.3), 0 1px 3px 1px rgba(60, 64, 67, 0.15);\n",
              "    fill: var(--button-hover-fill-color);\n",
              "  }\n",
              "\n",
              "  .colab-df-quickchart-complete:disabled,\n",
              "  .colab-df-quickchart-complete:disabled:hover {\n",
              "    background-color: var(--disabled-bg-color);\n",
              "    fill: var(--disabled-fill-color);\n",
              "    box-shadow: none;\n",
              "  }\n",
              "\n",
              "  .colab-df-spinner {\n",
              "    border: 2px solid var(--fill-color);\n",
              "    border-color: transparent;\n",
              "    border-bottom-color: var(--fill-color);\n",
              "    animation:\n",
              "      spin 1s steps(1) infinite;\n",
              "  }\n",
              "\n",
              "  @keyframes spin {\n",
              "    0% {\n",
              "      border-color: transparent;\n",
              "      border-bottom-color: var(--fill-color);\n",
              "      border-left-color: var(--fill-color);\n",
              "    }\n",
              "    20% {\n",
              "      border-color: transparent;\n",
              "      border-left-color: var(--fill-color);\n",
              "      border-top-color: var(--fill-color);\n",
              "    }\n",
              "    30% {\n",
              "      border-color: transparent;\n",
              "      border-left-color: var(--fill-color);\n",
              "      border-top-color: var(--fill-color);\n",
              "      border-right-color: var(--fill-color);\n",
              "    }\n",
              "    40% {\n",
              "      border-color: transparent;\n",
              "      border-right-color: var(--fill-color);\n",
              "      border-top-color: var(--fill-color);\n",
              "    }\n",
              "    60% {\n",
              "      border-color: transparent;\n",
              "      border-right-color: var(--fill-color);\n",
              "    }\n",
              "    80% {\n",
              "      border-color: transparent;\n",
              "      border-right-color: var(--fill-color);\n",
              "      border-bottom-color: var(--fill-color);\n",
              "    }\n",
              "    90% {\n",
              "      border-color: transparent;\n",
              "      border-bottom-color: var(--fill-color);\n",
              "    }\n",
              "  }\n",
              "</style>\n",
              "\n",
              "  <script>\n",
              "    async function quickchart(key) {\n",
              "      const quickchartButtonEl =\n",
              "        document.querySelector('#' + key + ' button');\n",
              "      quickchartButtonEl.disabled = true;  // To prevent multiple clicks.\n",
              "      quickchartButtonEl.classList.add('colab-df-spinner');\n",
              "      try {\n",
              "        const charts = await google.colab.kernel.invokeFunction(\n",
              "            'suggestCharts', [key], {});\n",
              "      } catch (error) {\n",
              "        console.error('Error during call to suggestCharts:', error);\n",
              "      }\n",
              "      quickchartButtonEl.classList.remove('colab-df-spinner');\n",
              "      quickchartButtonEl.classList.add('colab-df-quickchart-complete');\n",
              "    }\n",
              "    (() => {\n",
              "      let quickchartButtonEl =\n",
              "        document.querySelector('#df-921d6aaf-96e6-4bb6-9511-4279a682c39f button');\n",
              "      quickchartButtonEl.style.display =\n",
              "        google.colab.kernel.accessAllowed ? 'block' : 'none';\n",
              "    })();\n",
              "  </script>\n",
              "</div>\n",
              "\n",
              "    </div>\n",
              "  </div>\n"
            ],
            "application/vnd.google.colaboratory.intrinsic+json": {
              "type": "dataframe",
              "variable_name": "articles_df",
              "summary": "{\n  \"name\": \"articles_df\",\n  \"rows\": 3,\n  \"fields\": [\n    {\n      \"column\": \"title\",\n      \"properties\": {\n        \"dtype\": \"string\",\n        \"num_unique_values\": 3,\n        \"samples\": [\n          \"Elbtower: Kauft t\\u00fcrkische Firma Hamburgs k\\u00fcnftiges Wahrzeichen?\",\n          \"Israels Armee sucht den Goldschatz der Hisbollah\",\n          \"Gr\\u00fcne verbieten Hunde? Wie CSU zu diesem \\u201eSchwachsinn\\u201c kommt\"\n        ],\n        \"semantic_type\": \"\",\n        \"description\": \"\"\n      }\n    },\n    {\n      \"column\": \"authors\",\n      \"properties\": {\n        \"dtype\": \"object\",\n        \"semantic_type\": \"\",\n        \"description\": \"\"\n      }\n    },\n    {\n      \"column\": \"date_publish\",\n      \"properties\": {\n        \"dtype\": \"date\",\n        \"min\": \"2024-10-22 14:56:01\",\n        \"max\": \"2024-10-24 12:25:16\",\n        \"num_unique_values\": 3,\n        \"samples\": [\n          \"2024-10-24 12:25:16\",\n          \"2024-10-22 14:56:01\",\n          \"2024-10-24 11:18:36\"\n        ],\n        \"semantic_type\": \"\",\n        \"description\": \"\"\n      }\n    },\n    {\n      \"column\": \"maintext\",\n      \"properties\": {\n        \"dtype\": \"string\",\n        \"num_unique_values\": 3,\n        \"samples\": [\n          \"Hamburg. Bekanntes Unternehmen aus Istanbul soll zu den letzten drei Interessenten geh\\u00f6ren. Welche Hamburger ebenfalls auf den Zuschlag hoffen.\",\n          \"Der Direktor des Krankenhauses, ein Parlamentsabgeordneter der Hisbollah-nahen Amal-Partei, bestritt die Vorw\\u00fcrfe, lie\\u00df das Krankenhaus am Dienstag aber r\\u00e4umen und Journalisten ins Geb\\u00e4ude hinein, gleichzeitig twitterte ein israelischer Armeesprecher Aufforderungen, man solle sich nicht blenden lassen und in den Keller gehen, wo das Geld liege. Gefunden wurde offenbar nichts.\\nDie Hausbank der Terrororganisation soll Gelder aus deren kriminellen Aktivit\\u00e4ten gewaschen haben\\nDie israelische Armee hatte in den vergangenen Tagen immer wieder das Finanzsystem der Hisbollah ins Visier genommen, vor allem die Al-Kard-Al-Hassan-Bank, mindestens 20 ihrer Filialen in Beirut und anderen Landesteilen wurden angegriffen und dabei teilweise ganze Wohngeb\\u00e4ude zerst\\u00f6rt, in deren Erdgeschoss sich die Zweigstellen befanden. Laut israelischer Armee werden durch Al-Kard Al-Hassan der Terror finanziert, Hisbollah-K\\u00e4mpfer bezahlt und Waffenk\\u00e4ufe erm\\u00f6glicht. Bereits bei der T\\u00f6tung von Hassan Nasrallah Ende Oktober sollen gro\\u00dfe Mengen Bargeld durch die Bomben auf den Bunker des Hisbollah-F\\u00fchrers vernichtet worden sein. Al-Kard Al-Hassan wurde in der Vergangenheit von westlichen Geheimdiensten vorgeworfen, Gelder aus dem Drogenhandel und kriminellen Aktivit\\u00e4ten der Hisbollah zu waschen oder ins Land zu transferieren.\\nAl-Kard Al-Hassan bedeutet so etwas wie \\u201eDas gute Darlehen\\u201c, es ist eine Finanzinstitution nach islamischen Regeln, die Zinsen und Wucher verbieten. Die Bank wurde 1983 gegr\\u00fcndet und soll derzeit etwa 300 000 Privatkunden haben, vor allem schiitische Libanesen. Hisbollah-F\\u00fchrer Nasrallah pries die Bank 2021 in einer Rede als gro\\u00dfen Gewinn f\\u00fcr die schiitische Gemeinschaft, seit ihrem Bestehen habe sie 3,7 Milliarden Dollar Kredite an 1,8 Millionen Kunden vergeben.\\nDer Finanzier Iran ist klamm, das hat Folgen f\\u00fcr die Hisbollah\\nBei einem Gro\\u00dfteil d\\u00fcrfte es sich um Kleinkredite gehandelt haben, viele Schiiten bringen Gold oder Familienschmuck zu Al-Kard Al-Hassan und erhalten im Gegenzug ein Darlehen f\\u00fcr Schulgeb\\u00fchren oder Beerdigungen. Die Hisbollah soll vielen Kunden bereits per Whatsapp versichert haben, dass ihre Einlagen noch da sind. Die Bank hatte w\\u00e4hrend der libanesischen Wirtschaftskrise, die 2019 begann und die Ersparnisse vieler Menschen vernichtete, an Reputation gewonnen. W\\u00e4hrend Kunden des offiziellen Sektors nicht mehr an ihre Dollar kamen und die lokale W\\u00e4hrung 97 Prozent ihres Wertes verlor, \\u00e4nderte sich f\\u00fcr die Kunden der Al-Kard-Al-Hassan-Bank nichts, sie kamen weiter an ihr Geld.\\nDie Finanzsituation der Hisbollah insgesamt scheint sich aber in den vergangenen Jahren verschlechtert zu haben, der gro\\u00dfe Finanzier Iran ist in einer schweren Wirtschaftskrise. Vor allem im S\\u00fcden Libanons w\\u00e4chst die Wut auf die Hisbollah, weil sie offenbar nicht das Geld hat, die von Israel zerst\\u00f6rten H\\u00e4user und Einrichtungen wieder aufzubauen. Oder \\u00fcberhaupt nennenswerte humanit\\u00e4re Hilfe f\\u00fcr die mehr als eine Million Menschen zu leisten, die ihre H\\u00e4user verlassen mussten. Das war nach dem Krieg 2006 noch anders, damals soll es f\\u00fcr jedes zerst\\u00f6rte Haus etwa 120 000 Dollar gegeben haben.\\nViele libanesische Hisbollah-Analysten denken, dass die Angriffe auf das Finanzsystem nicht so sehr dazu dienen, die milit\\u00e4rische Kraft der Hisbollah zu schw\\u00e4chen, sondern eher psychologischer Natur sind, um die Anh\\u00e4ngerschaft zu verunsichern.\\nDen angeblichen Goldschatz unter dem Krankenhaus werde man nicht attackieren, hatte der israelische Armeesprecher noch am Montag gesagt, der Krieg richte sich nicht gegen das libanesische Volk. Wenig sp\\u00e4ter traf eine Bombe die Nachbarschaft des Rafik-Hariri-Krankenhauses, 13 Menschen wurden get\\u00f6tet.\",\n          \"Berlin. Der CSU-Generalsekret\\u00e4r behauptet, die Gr\\u00fcne Jugend will Hunde verbieten. Woher das Narrativ kommt \\u2013 und warum Lang auf Trump verweist.\\nAus ihrer Ablehnung gr\\u00fcner Politik, sogar der ganzen Partei, macht die CSU keinen Hehl: Gebetsm\\u00fchlenartig wiederholen f\\u00fchrende K\\u00f6pfe der bayrischen Schwesterpartei ihr Mantra, das sich zwischen \\u201eNein zu Schwarz-Gr\\u00fcn\\u201c und \\u201eGr\\u00fcne sind gegen Bayern\\u201c einpendelt. So zumindest formulierte es CSU-Chef und Ministerpr\\u00e4sident Markus S\\u00f6der bei seiner Parteitagsrede.\\nWas zun\\u00e4chst als eindeutige Koalitionsabsage begann, scheint jetzt zur Wahlkampfstrategie der CSU zu werden, die in \\u00fcberspitzter Form die sozialen Medien erreicht. Dort postete CSU-General Martin Huber ein Video, indem er sich als Besch\\u00fctzer von Haustierbesitzern inszeniert. Seine These: Die Gr\\u00fcne Jugend will Hundebesitzern ihre Haustiere wegnehmen.\\nCSU postet Video: Woher kommt der Vorwurf?\\n\\u201eSie sind f\\u00fcr viele Wegbegleiter, Kummerkasten, Familienmitglied und Spielgef\\u00e4hrte\\u201c, spricht er in die Kamera, w\\u00e4hrend ein Hund vor ihm auf und ab h\\u00fcpft. Hinterlegt wird das Video, das der Generalsekret\\u00e4r unter anderem via Instagram verbreitete, mit Klaviermusik. \\u201eUnd die Gr\\u00fcne Jugend m\\u00f6chte Euch das verbieten und einen treuen Freund wegnehmen. Was f\\u00fcr ein herzloser Irrsinn\\u201c, res\\u00fcmiert Huber.\\nHubers These st\\u00fctzt sich auf einen Beitrag der \\u201eBild\\u201c, den er zu Beginn seines Videos als Screenshot einblendet und den die CSU als Sharepic verbreitet. \\u201eWelpen-Feind ist neuer Junior-Chef der Gr\\u00fcnen\\u201c titelte das Medium, nachdem Jakob Blasel und Jette Nietzard zum neuen F\\u00fchrungsduo der Gr\\u00fcnen Jugend bestimmt wurden.\\nAuch interessant\\nRicarda Lang vergleicht Hubers Aussage mit der von Trump\\nDie \\u201eBild\\u201c leitete diese Behauptung aus einem Interview ab, das Blasel 2019 dem ARD-Jugendformat Funk gegeben hatte. \\u201eSo liebensw\\u00fcrdig unsere Haustiere auch sind, wir brauchen sie eigentlich nicht, und das ist ein ziemlicher Umwelt- und CO\\u2082-Luxus, den wir uns da leisten\\u201c, zitieren verschiedene Medien aus dem Video, das nicht mehr online ist.\\nDer Fridays For Future Mitbegr\\u00fcnder pl\\u00e4dierte demnach daf\\u00fcr, es zu verbieten, die Tiere unn\\u00f6tig zu z\\u00fcchten. Unter anderem der Bayrische Rundfunk zitiert Blasel mit der Empfehlung, \\u201evor allem Tiere aus dem Tierheim zu nehmen, wenn wir denn gern ein Haustier h\\u00e4tten\\u201c. Von einer Forderung nach einem Haustierverbot: keine Spur.\\nIn den sozialen Medien traf Hubers Video bei f\\u00fchrenden K\\u00f6pfen der Gr\\u00fcnen auf wenig Gegenliebe und H\\u00e4me. In einem Video verweist die scheidende Gr\\u00fcnen-Vorsitzende Ricarda Lang auf die Aussage Donald Trumps, der behauptet hatte, dass Haitianer in den USA Katzen und Hunde essen w\\u00fcrden. \\u201eUnd da hat sich die CDU gedacht: Was Donald kann, das k\\u00f6nnen wir schon l\\u00e4nger\\u201c, so Lang via X. \\u201eDas ist nat\\u00fcrlich kompletter Schwachsinn.\\u201c\\nGr\\u00fcnen-Europaabgeordneter Erik Marquardt kommentierte neben Hubers Beitrag: \\u201eDas C in CSU steht auf jeden Fall f\\u00fcr crazy.\\u201c\\nAuch interessant\"\n        ],\n        \"semantic_type\": \"\",\n        \"description\": \"\"\n      }\n    },\n    {\n      \"column\": \"url\",\n      \"properties\": {\n        \"dtype\": \"string\",\n        \"num_unique_values\": 3,\n        \"samples\": [\n          \"https://www.abendblatt.de/hamburg/hamburg-mitte/article407529183/elbtower-kauft-tuerkische-firma-hamburgs-kuenftiges-wahrzeichen.html\",\n          \"https://www.sueddeutsche.de/politik/israel-hisbollah-libanon-bank-gold-geld-krankenhaus-lux.TxxwzAtVsoRuvgqkHfMiuy\",\n          \"https://www.morgenpost.de/politik/article407533911/gruene-verbieten-hunde-wie-csu-zu-diesem-schwachsinn-kommt.html\"\n        ],\n        \"semantic_type\": \"\",\n        \"description\": \"\"\n      }\n    },\n    {\n      \"column\": \"newspaper\",\n      \"properties\": {\n        \"dtype\": \"string\",\n        \"num_unique_values\": 3,\n        \"samples\": [\n          \"abendblatt.de\",\n          \"sueddeutsche.de\",\n          \"morgenpost.de\"\n        ],\n        \"semantic_type\": \"\",\n        \"description\": \"\"\n      }\n    }\n  ]\n}"
            }
          },
          "metadata": {},
          "execution_count": 18
        }
      ]
    },
    {
      "cell_type": "code",
      "source": [
        "print(articles_df.loc[0, 'maintext'])"
      ],
      "metadata": {
        "colab": {
          "base_uri": "https://localhost:8080/"
        },
        "id": "dX258_Voe1fR",
        "outputId": "89acb93a-e81b-4fc8-92ae-4ee0b27df998"
      },
      "execution_count": null,
      "outputs": [
        {
          "output_type": "stream",
          "name": "stdout",
          "text": [
            "Hamburg. Bekanntes Unternehmen aus Istanbul soll zu den letzten drei Interessenten gehören. Welche Hamburger ebenfalls auf den Zuschlag hoffen.\n"
          ]
        }
      ]
    },
    {
      "cell_type": "code",
      "source": [
        "import newspaper_scraper as nps"
      ],
      "metadata": {
        "id": "NfOCdT0Ep7k0",
        "outputId": "781a497c-8986-4a20-db57-1046a36e8b4d",
        "colab": {
          "base_uri": "https://localhost:8080/",
          "height": 316
        }
      },
      "execution_count": 1,
      "outputs": [
        {
          "output_type": "error",
          "ename": "ModuleNotFoundError",
          "evalue": "No module named 'newspaper_scraper'",
          "traceback": [
            "\u001b[0;31m---------------------------------------------------------------------------\u001b[0m",
            "\u001b[0;31mModuleNotFoundError\u001b[0m                       Traceback (most recent call last)",
            "\u001b[0;32m<ipython-input-1-c7bcf806306d>\u001b[0m in \u001b[0;36m<cell line: 1>\u001b[0;34m()\u001b[0m\n\u001b[0;32m----> 1\u001b[0;31m \u001b[0;32mimport\u001b[0m \u001b[0mnewspaper_scraper\u001b[0m \u001b[0;32mas\u001b[0m \u001b[0mnps\u001b[0m\u001b[0;34m\u001b[0m\u001b[0;34m\u001b[0m\u001b[0m\n\u001b[0m",
            "\u001b[0;31mModuleNotFoundError\u001b[0m: No module named 'newspaper_scraper'",
            "",
            "\u001b[0;31m---------------------------------------------------------------------------\u001b[0;32m\nNOTE: If your import is failing due to a missing package, you can\nmanually install dependencies using either !pip or !apt.\n\nTo view examples of installing some common dependencies, click the\n\"Open Examples\" button below.\n\u001b[0;31m---------------------------------------------------------------------------\u001b[0m\n"
          ],
          "errorDetails": {
            "actions": [
              {
                "action": "open_url",
                "actionText": "Open Examples",
                "url": "/notebooks/snippets/importing_libraries.ipynb"
              }
            ]
          }
        }
      ]
    },
    {
      "cell_type": "code",
      "source": [
        "with nps.DeBild(db_files='articles_debild.db') as news:\n",
        "  news.index_articles_by_date_range('2023-09-01', '2023-09-30') #fron 1st to 30th september 2023\n",
        "  news.scrape_public_articles()\n",
        "  #it's also possible to apply spacy's nlp function directly with the scraping library\n",
        "  #news.nlp()"
      ],
      "metadata": {
        "id": "RIjyMLQsimSn"
      },
      "execution_count": null,
      "outputs": []
    }
  ]
}